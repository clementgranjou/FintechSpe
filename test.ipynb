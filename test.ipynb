{
 "cells": [
  {
   "cell_type": "markdown",
   "metadata": {},
   "source": [
    "**Prétraitement des données**"
   ]
  },
  {
   "cell_type": "code",
   "execution_count": 1,
   "metadata": {},
   "outputs": [
    {
     "name": "stdout",
     "output_type": "stream",
     "text": [
      "Lemmatisation : ['le', 'chat', 'être', 'le', 'animal', 'le', 'plus', 'mignon', '.']\n",
      "Tokens sans stop words : ['chats', 'animaux', 'mignons', '.']\n",
      "Tokens en minuscules : ['les', 'chats', 'sont', 'les', 'animaux', 'les', 'plus', 'mignons', '.']\n"
     ]
    }
   ],
   "source": [
    "import spacy\n",
    "\n",
    "nlp = spacy.load('fr_core_news_sm')\n",
    "\n",
    "texte = \"Les chats sont les animaux les plus mignons.\"\n",
    "\n",
    "doc = nlp(texte)\n",
    "\n",
    "# Lemmatisation\n",
    "lemmes = [token.lemma_ for token in doc]\n",
    "\n",
    "# Suppression des stop words\n",
    "tokens_sans_stop = [token.text for token in doc if not token.is_stop]\n",
    "\n",
    "# Normalisation (minuscules)\n",
    "tokens_minuscules = [token.text.lower() for token in doc]\n",
    "\n",
    "print(\"Lemmatisation :\", lemmes)\n",
    "print(\"Tokens sans stop words :\", tokens_sans_stop)\n",
    "print(\"Tokens en minuscules :\", tokens_minuscules)\n"
   ]
  },
  {
   "cell_type": "markdown",
   "metadata": {},
   "source": [
    "**Vectorisation (Tf_Idf)**"
   ]
  },
  {
   "cell_type": "code",
   "execution_count": 2,
   "metadata": {},
   "outputs": [
    {
     "name": "stdout",
     "output_type": "stream",
     "text": [
      "[[0.40352536 0.         0.40352536 0.         0.         0.\n",
      "  0.         0.53058735 0.62674687 0.         0.         0.        ]\n",
      " [0.40619178 0.         0.         0.40619178 0.         0.\n",
      "  0.         0.         0.31544415 0.53409337 0.53409337 0.        ]\n",
      " [0.         0.36388646 0.27674503 0.27674503 0.36388646 0.36388646\n",
      "  0.36388646 0.         0.42983441 0.         0.         0.36388646]]\n",
      "['aime' 'animaux' 'chat' 'chien' 'des' 'domestiques' 'et' 'lait' 'le'\n",
      " 'les' 'os' 'sont']\n"
     ]
    }
   ],
   "source": [
    "from sklearn.feature_extraction.text import TfidfVectorizer\n",
    "\n",
    "# Ton corpus\n",
    "corpus = [\n",
    "    \"Le chat aime le lait.\",\n",
    "    \"Le chien aime les os.\",\n",
    "    \"Le chat et le chien sont des animaux domestiques.\"\n",
    "]\n",
    "\n",
    "# Initialiser le vectoriseur TF-IDF\n",
    "vectorizer = TfidfVectorizer()\n",
    "\n",
    "# Calculer la matrice TF-IDF\n",
    "X = vectorizer.fit_transform(corpus)\n",
    "\n",
    "# Afficher la matrice sous forme dense\n",
    "print(X.toarray())\n",
    "\n",
    "# Afficher les mots associés aux colonnes\n",
    "print(vectorizer.get_feature_names_out())\n"
   ]
  }
 ],
 "metadata": {
  "kernelspec": {
   "display_name": "Python 3.11.5 ('base')",
   "language": "python",
   "name": "python3"
  },
  "language_info": {
   "codemirror_mode": {
    "name": "ipython",
    "version": 3
   },
   "file_extension": ".py",
   "mimetype": "text/x-python",
   "name": "python",
   "nbconvert_exporter": "python",
   "pygments_lexer": "ipython3",
   "version": "3.11.8"
  },
  "orig_nbformat": 4,
  "vscode": {
   "interpreter": {
    "hash": "c2dba00522cd814ba230a16b510c801ec3859db210f7a03cdc99d1d3a82cf89f"
   }
  }
 },
 "nbformat": 4,
 "nbformat_minor": 2
}
